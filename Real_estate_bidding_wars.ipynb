{
 "cells": [
  {
   "cell_type": "markdown",
   "id": "42f51f56-d2fa-4ecd-b469-1188c912d1b8",
   "metadata": {},
   "source": [
    "For personal use only"
   ]
  },
  {
   "cell_type": "markdown",
   "id": "ef63e044-5abe-46d1-9f92-6f3d96b2c7d7",
   "metadata": {},
   "source": [
    "As bidding wars in NJ last for several years. You never know, how much should you offer over asking proce to get the house.\n",
    "But let's try to find out."
   ]
  },
  {
   "cell_type": "code",
   "execution_count": 1,
   "id": "83ee8b16-a4af-42ed-a527-e5ece433ddc0",
   "metadata": {},
   "outputs": [],
   "source": [
    "import json\n",
    "import httpx\n",
    "\n",
    "from parsel import Selector"
   ]
  },
  {
   "cell_type": "code",
   "execution_count": 2,
   "id": "624a027b-56f6-46cb-ba59-5cb6690ed337",
   "metadata": {},
   "outputs": [],
   "source": [
    "import requests\n",
    "from bs4 import BeautifulSoup"
   ]
  },
  {
   "cell_type": "code",
   "execution_count": 3,
   "id": "a4240da8-7e87-4198-aeb5-f58e296bb49a",
   "metadata": {},
   "outputs": [],
   "source": [
    "l = list()"
   ]
  },
  {
   "cell_type": "markdown",
   "id": "0f83952f-f5d3-460e-a7d6-fce4b76e4511",
   "metadata": {},
   "source": [
    "Here are some towns I am interested in."
   ]
  },
  {
   "cell_type": "code",
   "execution_count": 4,
   "id": "a4456e3a-86c1-421b-9d24-598ff921ec82",
   "metadata": {},
   "outputs": [],
   "source": [
    "towns_list = ['berkeley-heights-township', 'mountainside', 'long-hill-township', 'warren', 'watchung', 'bernards-township', 'new-providence']"
   ]
  },
  {
   "cell_type": "markdown",
   "id": "e92d5c6f-f858-417e-9665-caa76a9e7e5f",
   "metadata": {},
   "source": [
    "I am using the web-site \"www.rockethomes.com\"  as it shows both listed and sold price on 1 page.\n",
    "Here I am using BeautifulSoup to scrap the data."
   ]
  },
  {
   "cell_type": "code",
   "execution_count": 5,
   "id": "c37c36e4-3210-4410-85dc-be90d07b5555",
   "metadata": {},
   "outputs": [],
   "source": [
    "for town in towns_list:\n",
    "\n",
    "    url = \"https://www.rockethomes.com/nj/\"+town+\"?listing-status=sold\"\n",
    "    \n",
    "    page = requests.get(url)\n",
    "    soup = BeautifulSoup(page.content, \"html.parser\")\n",
    "    \n",
    "    properties = soup.find_all(\"div\",{\"class\":\"p2 transition relative flex h-full w-full flex-col overflow-hidden rounded-8 bg-white text-left shadow-3 hover:shadow-7 w-full\"})\n",
    "    for x in range(0,len(properties)):\n",
    "        obj={}\n",
    "        try:\n",
    "            obj[\"sold_price\"]=properties[x].find(\"p\",{\"class\":\"mr-12 sprk-b-TypeBodyOne\"}).text\n",
    "        except:\n",
    "            obj[\"sold_price\"]=None\n",
    "        try:\n",
    "            obj[\"list_price\"]=properties[x].find(\"p\",{\"class\":\"line-through text-sprk-black-tint-60 sprk-b-TypeBodyFour\"}).text\n",
    "        except:\n",
    "            obj[\"list_price\"]=None\n",
    "        try:\n",
    "            obj[\"bdr\"]=properties[x].find(\"p\",{\"data-testid\": \"beds\"}).text\n",
    "        except:\n",
    "            obj[\"bdr\"]=None\n",
    "        try:\n",
    "            obj[\"address\"]=properties[x].find(\"p\",{\"class\":\"truncate pb-4 sprk-b-TypeBodyFour\"}).text\n",
    "        except:\n",
    "            obj[\"address\"]=None\n",
    "        l.append(obj)\n",
    "    \n",
    "\n"
   ]
  },
  {
   "cell_type": "markdown",
   "id": "bbae87eb-c9f6-4a86-8a25-bb9df0ff090a",
   "metadata": {},
   "source": [
    "Let's put everything into pandas dataframe "
   ]
  },
  {
   "cell_type": "code",
   "execution_count": 6,
   "id": "390ee678-a2c4-4a60-beeb-3b1f77338720",
   "metadata": {},
   "outputs": [],
   "source": [
    "import pandas as pd"
   ]
  },
  {
   "cell_type": "code",
   "execution_count": 7,
   "id": "efb1e145-94e6-4b57-a441-4f2f41cfb5d5",
   "metadata": {},
   "outputs": [],
   "source": [
    "df = pd.DataFrame(l)"
   ]
  },
  {
   "cell_type": "code",
   "execution_count": 8,
   "id": "1709e9b9-936b-442d-9ead-4c408c4f6b82",
   "metadata": {},
   "outputs": [
    {
     "data": {
      "text/html": [
       "<div>\n",
       "<style scoped>\n",
       "    .dataframe tbody tr th:only-of-type {\n",
       "        vertical-align: middle;\n",
       "    }\n",
       "\n",
       "    .dataframe tbody tr th {\n",
       "        vertical-align: top;\n",
       "    }\n",
       "\n",
       "    .dataframe thead th {\n",
       "        text-align: right;\n",
       "    }\n",
       "</style>\n",
       "<table border=\"1\" class=\"dataframe\">\n",
       "  <thead>\n",
       "    <tr style=\"text-align: right;\">\n",
       "      <th></th>\n",
       "      <th>sold_price</th>\n",
       "      <th>list_price</th>\n",
       "      <th>bdr</th>\n",
       "      <th>address</th>\n",
       "    </tr>\n",
       "  </thead>\n",
       "  <tbody>\n",
       "    <tr>\n",
       "      <th>0</th>\n",
       "      <td>$1,199,000</td>\n",
       "      <td>None</td>\n",
       "      <td>4</td>\n",
       "      <td>630 Plainfield Ave, Berkeley Heights Twp NJ, 0...</td>\n",
       "    </tr>\n",
       "    <tr>\n",
       "      <th>1</th>\n",
       "      <td>$675,000</td>\n",
       "      <td>$699,000</td>\n",
       "      <td>5</td>\n",
       "      <td>60 Ralph Pl, Berkeley Heights Twp NJ, 07922</td>\n",
       "    </tr>\n",
       "    <tr>\n",
       "      <th>2</th>\n",
       "      <td>$625,000</td>\n",
       "      <td>None</td>\n",
       "      <td>3</td>\n",
       "      <td>47 Hamilton Ave, Berkeley Heights Twp NJ, 07922</td>\n",
       "    </tr>\n",
       "    <tr>\n",
       "      <th>3</th>\n",
       "      <td>$725,000</td>\n",
       "      <td>$675,000</td>\n",
       "      <td>4</td>\n",
       "      <td>43 Beech Ave, Berkeley Heights Twp NJ, 07922</td>\n",
       "    </tr>\n",
       "    <tr>\n",
       "      <th>4</th>\n",
       "      <td>$750,000</td>\n",
       "      <td>$749,900</td>\n",
       "      <td>6</td>\n",
       "      <td>379 Snyder Ave, Berkeley Heights Twp NJ, 07922</td>\n",
       "    </tr>\n",
       "    <tr>\n",
       "      <th>...</th>\n",
       "      <td>...</td>\n",
       "      <td>...</td>\n",
       "      <td>...</td>\n",
       "      <td>...</td>\n",
       "    </tr>\n",
       "    <tr>\n",
       "      <th>151</th>\n",
       "      <td>$803,000</td>\n",
       "      <td>$729,000</td>\n",
       "      <td>3</td>\n",
       "      <td>15 Hillside Ter, New Providence Boro NJ, 07901</td>\n",
       "    </tr>\n",
       "    <tr>\n",
       "      <th>152</th>\n",
       "      <td>$691,250</td>\n",
       "      <td>$585,000</td>\n",
       "      <td>3</td>\n",
       "      <td>6 Magnolia Dr, New Providence Boro NJ, 07974</td>\n",
       "    </tr>\n",
       "    <tr>\n",
       "      <th>153</th>\n",
       "      <td>$500,000</td>\n",
       "      <td>$515,000</td>\n",
       "      <td>3</td>\n",
       "      <td>244 Livingston Ave, New Providence Boro NJ, 07...</td>\n",
       "    </tr>\n",
       "    <tr>\n",
       "      <th>154</th>\n",
       "      <td>$999,000</td>\n",
       "      <td>None</td>\n",
       "      <td>4</td>\n",
       "      <td>232 S St Unit 1, New Providence Boro NJ, 07974</td>\n",
       "    </tr>\n",
       "    <tr>\n",
       "      <th>155</th>\n",
       "      <td>$1,299,000</td>\n",
       "      <td>None</td>\n",
       "      <td>5</td>\n",
       "      <td>103 Primrose Dr, New Providence Boro NJ, 07974</td>\n",
       "    </tr>\n",
       "  </tbody>\n",
       "</table>\n",
       "<p>156 rows × 4 columns</p>\n",
       "</div>"
      ],
      "text/plain": [
       "     sold_price list_price bdr  \\\n",
       "0    $1,199,000       None   4   \n",
       "1      $675,000   $699,000   5   \n",
       "2      $625,000       None   3   \n",
       "3      $725,000   $675,000   4   \n",
       "4      $750,000   $749,900   6   \n",
       "..          ...        ...  ..   \n",
       "151    $803,000   $729,000   3   \n",
       "152    $691,250   $585,000   3   \n",
       "153    $500,000   $515,000   3   \n",
       "154    $999,000       None   4   \n",
       "155  $1,299,000       None   5   \n",
       "\n",
       "                                               address  \n",
       "0    630 Plainfield Ave, Berkeley Heights Twp NJ, 0...  \n",
       "1         60 Ralph Pl, Berkeley Heights Twp NJ, 07922   \n",
       "2     47 Hamilton Ave, Berkeley Heights Twp NJ, 07922   \n",
       "3        43 Beech Ave, Berkeley Heights Twp NJ, 07922   \n",
       "4      379 Snyder Ave, Berkeley Heights Twp NJ, 07922   \n",
       "..                                                 ...  \n",
       "151    15 Hillside Ter, New Providence Boro NJ, 07901   \n",
       "152      6 Magnolia Dr, New Providence Boro NJ, 07974   \n",
       "153  244 Livingston Ave, New Providence Boro NJ, 07...  \n",
       "154    232 S St Unit 1, New Providence Boro NJ, 07974   \n",
       "155    103 Primrose Dr, New Providence Boro NJ, 07974   \n",
       "\n",
       "[156 rows x 4 columns]"
      ]
     },
     "execution_count": 8,
     "metadata": {},
     "output_type": "execute_result"
    }
   ],
   "source": [
    "df"
   ]
  },
  {
   "cell_type": "code",
   "execution_count": 9,
   "id": "63811e3d-025b-4e1f-8b78-25dbae683f5e",
   "metadata": {},
   "outputs": [],
   "source": [
    "df = df.loc[df['list_price'].notna()]"
   ]
  },
  {
   "cell_type": "code",
   "execution_count": 10,
   "id": "57fe5e40-0d5a-4bae-834b-4e193519573c",
   "metadata": {},
   "outputs": [],
   "source": [
    "df.loc[:, 'sold_price'] = df.loc[:, 'sold_price'].str.replace(('\\$'), '',regex=True).str.replace((','), '',regex=True)\n",
    "df.loc[:, 'list_price'] = df.loc[:, 'list_price'].str.replace(('\\$'), '',regex=True).str.replace((','), '',regex=True)"
   ]
  },
  {
   "cell_type": "markdown",
   "id": "e2f35025-43f9-4a9d-8ffd-3da573948468",
   "metadata": {},
   "source": [
    "Also I am turning price column into regular numbers "
   ]
  },
  {
   "cell_type": "code",
   "execution_count": 11,
   "id": "0007bd58-a7ee-4b88-b4f3-a63c21224bd2",
   "metadata": {},
   "outputs": [
    {
     "data": {
      "text/html": [
       "<div>\n",
       "<style scoped>\n",
       "    .dataframe tbody tr th:only-of-type {\n",
       "        vertical-align: middle;\n",
       "    }\n",
       "\n",
       "    .dataframe tbody tr th {\n",
       "        vertical-align: top;\n",
       "    }\n",
       "\n",
       "    .dataframe thead th {\n",
       "        text-align: right;\n",
       "    }\n",
       "</style>\n",
       "<table border=\"1\" class=\"dataframe\">\n",
       "  <thead>\n",
       "    <tr style=\"text-align: right;\">\n",
       "      <th></th>\n",
       "      <th>sold_price</th>\n",
       "      <th>list_price</th>\n",
       "      <th>bdr</th>\n",
       "      <th>address</th>\n",
       "    </tr>\n",
       "  </thead>\n",
       "  <tbody>\n",
       "    <tr>\n",
       "      <th>1</th>\n",
       "      <td>675000</td>\n",
       "      <td>699000</td>\n",
       "      <td>5</td>\n",
       "      <td>60 Ralph Pl, Berkeley Heights Twp NJ, 07922</td>\n",
       "    </tr>\n",
       "    <tr>\n",
       "      <th>3</th>\n",
       "      <td>725000</td>\n",
       "      <td>675000</td>\n",
       "      <td>4</td>\n",
       "      <td>43 Beech Ave, Berkeley Heights Twp NJ, 07922</td>\n",
       "    </tr>\n",
       "    <tr>\n",
       "      <th>4</th>\n",
       "      <td>750000</td>\n",
       "      <td>749900</td>\n",
       "      <td>6</td>\n",
       "      <td>379 Snyder Ave, Berkeley Heights Twp NJ, 07922</td>\n",
       "    </tr>\n",
       "    <tr>\n",
       "      <th>5</th>\n",
       "      <td>527000</td>\n",
       "      <td>445000</td>\n",
       "      <td>3</td>\n",
       "      <td>3 Castle Dr, Berkeley Heights Twp NJ, 07922</td>\n",
       "    </tr>\n",
       "    <tr>\n",
       "      <th>6</th>\n",
       "      <td>450000</td>\n",
       "      <td>449900</td>\n",
       "      <td>2</td>\n",
       "      <td>34 Angela Way, Berkeley Heights Twp NJ, 07922</td>\n",
       "    </tr>\n",
       "  </tbody>\n",
       "</table>\n",
       "</div>"
      ],
      "text/plain": [
       "  sold_price list_price bdr                                          address\n",
       "1     675000     699000   5     60 Ralph Pl, Berkeley Heights Twp NJ, 07922 \n",
       "3     725000     675000   4    43 Beech Ave, Berkeley Heights Twp NJ, 07922 \n",
       "4     750000     749900   6  379 Snyder Ave, Berkeley Heights Twp NJ, 07922 \n",
       "5     527000     445000   3     3 Castle Dr, Berkeley Heights Twp NJ, 07922 \n",
       "6     450000     449900   2   34 Angela Way, Berkeley Heights Twp NJ, 07922 "
      ]
     },
     "execution_count": 11,
     "metadata": {},
     "output_type": "execute_result"
    }
   ],
   "source": [
    "df.head()"
   ]
  },
  {
   "cell_type": "code",
   "execution_count": 12,
   "id": "accc5095-33c9-4002-976e-0888210e0f36",
   "metadata": {},
   "outputs": [],
   "source": [
    "df = df.astype({\"sold_price\": float, \"list_price\": float})"
   ]
  },
  {
   "cell_type": "markdown",
   "id": "cea183ee-7659-4607-8669-0857d2d1ed79",
   "metadata": {},
   "source": [
    "Let's define the difference of sold and listed price:"
   ]
  },
  {
   "cell_type": "code",
   "execution_count": 13,
   "id": "9618ac7d-a4df-4eb7-a523-96707a145e02",
   "metadata": {},
   "outputs": [],
   "source": [
    "df['bidding'] = df['sold_price'] - df['list_price']"
   ]
  },
  {
   "cell_type": "markdown",
   "id": "5a96569c-b413-476a-add3-8aad77364617",
   "metadata": {},
   "source": [
    "As I want to compare, which town is easier to get into, I am splitting the address cell:"
   ]
  },
  {
   "cell_type": "code",
   "execution_count": 14,
   "id": "b931547f-fc93-4962-8500-3aea735e1615",
   "metadata": {},
   "outputs": [],
   "source": [
    "df_cleaned = pd.concat([df, df['address'].str.split(pat = ', ', expand = True)], axis = 1)"
   ]
  },
  {
   "cell_type": "code",
   "execution_count": 15,
   "id": "6124b61e-d933-4c8d-9b4f-fe883eba8973",
   "metadata": {},
   "outputs": [
    {
     "data": {
      "text/html": [
       "<div>\n",
       "<style scoped>\n",
       "    .dataframe tbody tr th:only-of-type {\n",
       "        vertical-align: middle;\n",
       "    }\n",
       "\n",
       "    .dataframe tbody tr th {\n",
       "        vertical-align: top;\n",
       "    }\n",
       "\n",
       "    .dataframe thead th {\n",
       "        text-align: right;\n",
       "    }\n",
       "</style>\n",
       "<table border=\"1\" class=\"dataframe\">\n",
       "  <thead>\n",
       "    <tr style=\"text-align: right;\">\n",
       "      <th></th>\n",
       "      <th>sold_price</th>\n",
       "      <th>list_price</th>\n",
       "      <th>bdr</th>\n",
       "      <th>address</th>\n",
       "      <th>bidding</th>\n",
       "      <th>0</th>\n",
       "      <th>1</th>\n",
       "      <th>2</th>\n",
       "    </tr>\n",
       "  </thead>\n",
       "  <tbody>\n",
       "    <tr>\n",
       "      <th>1</th>\n",
       "      <td>675000.0</td>\n",
       "      <td>699000.0</td>\n",
       "      <td>5</td>\n",
       "      <td>60 Ralph Pl, Berkeley Heights Twp NJ, 07922</td>\n",
       "      <td>-24000.0</td>\n",
       "      <td>60 Ralph Pl</td>\n",
       "      <td>Berkeley Heights Twp NJ</td>\n",
       "      <td>07922</td>\n",
       "    </tr>\n",
       "    <tr>\n",
       "      <th>3</th>\n",
       "      <td>725000.0</td>\n",
       "      <td>675000.0</td>\n",
       "      <td>4</td>\n",
       "      <td>43 Beech Ave, Berkeley Heights Twp NJ, 07922</td>\n",
       "      <td>50000.0</td>\n",
       "      <td>43 Beech Ave</td>\n",
       "      <td>Berkeley Heights Twp NJ</td>\n",
       "      <td>07922</td>\n",
       "    </tr>\n",
       "    <tr>\n",
       "      <th>4</th>\n",
       "      <td>750000.0</td>\n",
       "      <td>749900.0</td>\n",
       "      <td>6</td>\n",
       "      <td>379 Snyder Ave, Berkeley Heights Twp NJ, 07922</td>\n",
       "      <td>100.0</td>\n",
       "      <td>379 Snyder Ave</td>\n",
       "      <td>Berkeley Heights Twp NJ</td>\n",
       "      <td>07922</td>\n",
       "    </tr>\n",
       "    <tr>\n",
       "      <th>5</th>\n",
       "      <td>527000.0</td>\n",
       "      <td>445000.0</td>\n",
       "      <td>3</td>\n",
       "      <td>3 Castle Dr, Berkeley Heights Twp NJ, 07922</td>\n",
       "      <td>82000.0</td>\n",
       "      <td>3 Castle Dr</td>\n",
       "      <td>Berkeley Heights Twp NJ</td>\n",
       "      <td>07922</td>\n",
       "    </tr>\n",
       "    <tr>\n",
       "      <th>6</th>\n",
       "      <td>450000.0</td>\n",
       "      <td>449900.0</td>\n",
       "      <td>2</td>\n",
       "      <td>34 Angela Way, Berkeley Heights Twp NJ, 07922</td>\n",
       "      <td>100.0</td>\n",
       "      <td>34 Angela Way</td>\n",
       "      <td>Berkeley Heights Twp NJ</td>\n",
       "      <td>07922</td>\n",
       "    </tr>\n",
       "  </tbody>\n",
       "</table>\n",
       "</div>"
      ],
      "text/plain": [
       "   sold_price  list_price bdr  \\\n",
       "1    675000.0    699000.0   5   \n",
       "3    725000.0    675000.0   4   \n",
       "4    750000.0    749900.0   6   \n",
       "5    527000.0    445000.0   3   \n",
       "6    450000.0    449900.0   2   \n",
       "\n",
       "                                           address  bidding               0  \\\n",
       "1     60 Ralph Pl, Berkeley Heights Twp NJ, 07922  -24000.0     60 Ralph Pl   \n",
       "3    43 Beech Ave, Berkeley Heights Twp NJ, 07922   50000.0    43 Beech Ave   \n",
       "4  379 Snyder Ave, Berkeley Heights Twp NJ, 07922     100.0  379 Snyder Ave   \n",
       "5     3 Castle Dr, Berkeley Heights Twp NJ, 07922   82000.0     3 Castle Dr   \n",
       "6   34 Angela Way, Berkeley Heights Twp NJ, 07922     100.0   34 Angela Way   \n",
       "\n",
       "                         1       2  \n",
       "1  Berkeley Heights Twp NJ  07922   \n",
       "3  Berkeley Heights Twp NJ  07922   \n",
       "4  Berkeley Heights Twp NJ  07922   \n",
       "5  Berkeley Heights Twp NJ  07922   \n",
       "6  Berkeley Heights Twp NJ  07922   "
      ]
     },
     "execution_count": 15,
     "metadata": {},
     "output_type": "execute_result"
    }
   ],
   "source": [
    "df_cleaned.head()"
   ]
  },
  {
   "cell_type": "markdown",
   "id": "366aff0a-896d-4db6-a852-7feeb5755d8e",
   "metadata": {},
   "source": [
    "Looks wonderful! Next step: I would compare only 3 and 4 bedroom houses, and they are on the market (some houses were never listed!)"
   ]
  },
  {
   "cell_type": "code",
   "execution_count": 16,
   "id": "1c1562ce-6fd5-48e4-9b5a-29587038a913",
   "metadata": {},
   "outputs": [],
   "source": [
    "df_cleaned = df_cleaned.rename(columns={0: \"street\", 1: \"town\", 2: \"zip\"})"
   ]
  },
  {
   "cell_type": "code",
   "execution_count": 17,
   "id": "19c92d29-f1f4-45e6-947e-a5c0c1fd2684",
   "metadata": {},
   "outputs": [],
   "source": [
    "df_3_4 = df_cleaned.loc[df_cleaned['bdr'].isin([\"3\", \"4\"])]"
   ]
  },
  {
   "cell_type": "markdown",
   "id": "cfd4b0c1-d856-442d-889b-cf78e0d2565c",
   "metadata": {},
   "source": [
    "Now we're renaming those new columns"
   ]
  },
  {
   "cell_type": "markdown",
   "id": "0b1aa3cc-8d8c-4e81-89b1-9d4018d41614",
   "metadata": {},
   "source": [
    "And here we are!\n"
   ]
  },
  {
   "cell_type": "code",
   "execution_count": 18,
   "id": "64e56c42-2da6-41d1-be0a-a338a0fdf153",
   "metadata": {},
   "outputs": [
    {
     "data": {
      "text/html": [
       "<div>\n",
       "<style scoped>\n",
       "    .dataframe tbody tr th:only-of-type {\n",
       "        vertical-align: middle;\n",
       "    }\n",
       "\n",
       "    .dataframe tbody tr th {\n",
       "        vertical-align: top;\n",
       "    }\n",
       "\n",
       "    .dataframe thead th {\n",
       "        text-align: right;\n",
       "    }\n",
       "</style>\n",
       "<table border=\"1\" class=\"dataframe\">\n",
       "  <thead>\n",
       "    <tr style=\"text-align: right;\">\n",
       "      <th></th>\n",
       "      <th>sold_price</th>\n",
       "      <th>list_price</th>\n",
       "      <th>bdr</th>\n",
       "      <th>address</th>\n",
       "      <th>bidding</th>\n",
       "      <th>street</th>\n",
       "      <th>town</th>\n",
       "      <th>zip</th>\n",
       "    </tr>\n",
       "  </thead>\n",
       "  <tbody>\n",
       "    <tr>\n",
       "      <th>3</th>\n",
       "      <td>725000.0</td>\n",
       "      <td>675000.0</td>\n",
       "      <td>4</td>\n",
       "      <td>43 Beech Ave, Berkeley Heights Twp NJ, 07922</td>\n",
       "      <td>50000.0</td>\n",
       "      <td>43 Beech Ave</td>\n",
       "      <td>Berkeley Heights Twp NJ</td>\n",
       "      <td>07922</td>\n",
       "    </tr>\n",
       "    <tr>\n",
       "      <th>5</th>\n",
       "      <td>527000.0</td>\n",
       "      <td>445000.0</td>\n",
       "      <td>3</td>\n",
       "      <td>3 Castle Dr, Berkeley Heights Twp NJ, 07922</td>\n",
       "      <td>82000.0</td>\n",
       "      <td>3 Castle Dr</td>\n",
       "      <td>Berkeley Heights Twp NJ</td>\n",
       "      <td>07922</td>\n",
       "    </tr>\n",
       "    <tr>\n",
       "      <th>7</th>\n",
       "      <td>461000.0</td>\n",
       "      <td>460000.0</td>\n",
       "      <td>3</td>\n",
       "      <td>56 Springholm Dr, Berkeley Heights Twp NJ, 07922</td>\n",
       "      <td>1000.0</td>\n",
       "      <td>56 Springholm Dr</td>\n",
       "      <td>Berkeley Heights Twp NJ</td>\n",
       "      <td>07922</td>\n",
       "    </tr>\n",
       "    <tr>\n",
       "      <th>8</th>\n",
       "      <td>1350000.0</td>\n",
       "      <td>1349000.0</td>\n",
       "      <td>4</td>\n",
       "      <td>59 Crest Dr, Berkeley Heights Twp NJ, 07901</td>\n",
       "      <td>1000.0</td>\n",
       "      <td>59 Crest Dr</td>\n",
       "      <td>Berkeley Heights Twp NJ</td>\n",
       "      <td>07901</td>\n",
       "    </tr>\n",
       "    <tr>\n",
       "      <th>9</th>\n",
       "      <td>455000.0</td>\n",
       "      <td>399900.0</td>\n",
       "      <td>3</td>\n",
       "      <td>288 Garfield St, Berkeley Heights Twp NJ, 07922</td>\n",
       "      <td>55100.0</td>\n",
       "      <td>288 Garfield St</td>\n",
       "      <td>Berkeley Heights Twp NJ</td>\n",
       "      <td>07922</td>\n",
       "    </tr>\n",
       "  </tbody>\n",
       "</table>\n",
       "</div>"
      ],
      "text/plain": [
       "   sold_price  list_price bdr  \\\n",
       "3    725000.0    675000.0   4   \n",
       "5    527000.0    445000.0   3   \n",
       "7    461000.0    460000.0   3   \n",
       "8   1350000.0   1349000.0   4   \n",
       "9    455000.0    399900.0   3   \n",
       "\n",
       "                                             address  bidding  \\\n",
       "3      43 Beech Ave, Berkeley Heights Twp NJ, 07922   50000.0   \n",
       "5       3 Castle Dr, Berkeley Heights Twp NJ, 07922   82000.0   \n",
       "7  56 Springholm Dr, Berkeley Heights Twp NJ, 07922    1000.0   \n",
       "8       59 Crest Dr, Berkeley Heights Twp NJ, 07901    1000.0   \n",
       "9   288 Garfield St, Berkeley Heights Twp NJ, 07922   55100.0   \n",
       "\n",
       "             street                     town     zip  \n",
       "3      43 Beech Ave  Berkeley Heights Twp NJ  07922   \n",
       "5       3 Castle Dr  Berkeley Heights Twp NJ  07922   \n",
       "7  56 Springholm Dr  Berkeley Heights Twp NJ  07922   \n",
       "8       59 Crest Dr  Berkeley Heights Twp NJ  07901   \n",
       "9   288 Garfield St  Berkeley Heights Twp NJ  07922   "
      ]
     },
     "execution_count": 18,
     "metadata": {},
     "output_type": "execute_result"
    }
   ],
   "source": [
    "df_3_4.head()"
   ]
  },
  {
   "cell_type": "markdown",
   "id": "b3db3183-5905-4d21-91a4-81015d0d6d3a",
   "metadata": {},
   "source": [
    "As we want to win this bidding war, let's check the median bidding for the town (altogether with the median price):"
   ]
  },
  {
   "cell_type": "code",
   "execution_count": 19,
   "id": "5c45c7d6-0ddd-4965-bfac-605fb72ab4c9",
   "metadata": {},
   "outputs": [
    {
     "data": {
      "text/html": [
       "<div>\n",
       "<style scoped>\n",
       "    .dataframe tbody tr th:only-of-type {\n",
       "        vertical-align: middle;\n",
       "    }\n",
       "\n",
       "    .dataframe tbody tr th {\n",
       "        vertical-align: top;\n",
       "    }\n",
       "\n",
       "    .dataframe thead th {\n",
       "        text-align: right;\n",
       "    }\n",
       "</style>\n",
       "<table border=\"1\" class=\"dataframe\">\n",
       "  <thead>\n",
       "    <tr style=\"text-align: right;\">\n",
       "      <th></th>\n",
       "      <th>sold_price</th>\n",
       "      <th>bidding</th>\n",
       "    </tr>\n",
       "    <tr>\n",
       "      <th>town</th>\n",
       "      <th></th>\n",
       "      <th></th>\n",
       "    </tr>\n",
       "  </thead>\n",
       "  <tbody>\n",
       "    <tr>\n",
       "      <th>Berkeley Heights Twp NJ</th>\n",
       "      <td>610000.0</td>\n",
       "      <td>36000.0</td>\n",
       "    </tr>\n",
       "    <tr>\n",
       "      <th>Bernards Twp NJ</th>\n",
       "      <td>801000.0</td>\n",
       "      <td>26000.0</td>\n",
       "    </tr>\n",
       "    <tr>\n",
       "      <th>Green Brook Twp NJ</th>\n",
       "      <td>765000.0</td>\n",
       "      <td>90000.0</td>\n",
       "    </tr>\n",
       "    <tr>\n",
       "      <th>Long Hill Twp NJ</th>\n",
       "      <td>772250.0</td>\n",
       "      <td>19250.0</td>\n",
       "    </tr>\n",
       "    <tr>\n",
       "      <th>Mountainside Boro NJ</th>\n",
       "      <td>894000.0</td>\n",
       "      <td>44100.0</td>\n",
       "    </tr>\n",
       "    <tr>\n",
       "      <th>New Providence Boro NJ</th>\n",
       "      <td>765000.0</td>\n",
       "      <td>71000.0</td>\n",
       "    </tr>\n",
       "    <tr>\n",
       "      <th>Warren Twp NJ</th>\n",
       "      <td>950059.0</td>\n",
       "      <td>-18941.0</td>\n",
       "    </tr>\n",
       "    <tr>\n",
       "      <th>Watchung Boro NJ</th>\n",
       "      <td>1090000.0</td>\n",
       "      <td>-29500.0</td>\n",
       "    </tr>\n",
       "  </tbody>\n",
       "</table>\n",
       "</div>"
      ],
      "text/plain": [
       "                         sold_price  bidding\n",
       "town                                        \n",
       "Berkeley Heights Twp NJ    610000.0  36000.0\n",
       "Bernards Twp NJ            801000.0  26000.0\n",
       "Green Brook Twp NJ         765000.0  90000.0\n",
       "Long Hill Twp NJ           772250.0  19250.0\n",
       "Mountainside Boro NJ       894000.0  44100.0\n",
       "New Providence Boro NJ     765000.0  71000.0\n",
       "Warren Twp NJ              950059.0 -18941.0\n",
       "Watchung Boro NJ          1090000.0 -29500.0"
      ]
     },
     "execution_count": 19,
     "metadata": {},
     "output_type": "execute_result"
    }
   ],
   "source": [
    "df_3_4[['sold_price', 'bidding', 'town']].groupby('town').median()"
   ]
  },
  {
   "cell_type": "markdown",
   "id": "c762beb8-ec06-4754-8119-994b2525f28b",
   "metadata": {},
   "source": [
    "And now the maximum:"
   ]
  },
  {
   "cell_type": "code",
   "execution_count": 20,
   "id": "d9bb7f81-2467-4797-b0f5-a211fd014ad8",
   "metadata": {},
   "outputs": [
    {
     "data": {
      "text/html": [
       "<div>\n",
       "<style scoped>\n",
       "    .dataframe tbody tr th:only-of-type {\n",
       "        vertical-align: middle;\n",
       "    }\n",
       "\n",
       "    .dataframe tbody tr th {\n",
       "        vertical-align: top;\n",
       "    }\n",
       "\n",
       "    .dataframe thead th {\n",
       "        text-align: right;\n",
       "    }\n",
       "</style>\n",
       "<table border=\"1\" class=\"dataframe\">\n",
       "  <thead>\n",
       "    <tr style=\"text-align: right;\">\n",
       "      <th></th>\n",
       "      <th>sold_price</th>\n",
       "      <th>bidding</th>\n",
       "    </tr>\n",
       "    <tr>\n",
       "      <th>town</th>\n",
       "      <th></th>\n",
       "      <th></th>\n",
       "    </tr>\n",
       "  </thead>\n",
       "  <tbody>\n",
       "    <tr>\n",
       "      <th>Berkeley Heights Twp NJ</th>\n",
       "      <td>1350000.0</td>\n",
       "      <td>91000.0</td>\n",
       "    </tr>\n",
       "    <tr>\n",
       "      <th>Bernards Twp NJ</th>\n",
       "      <td>1321000.0</td>\n",
       "      <td>275000.0</td>\n",
       "    </tr>\n",
       "    <tr>\n",
       "      <th>Green Brook Twp NJ</th>\n",
       "      <td>765000.0</td>\n",
       "      <td>90000.0</td>\n",
       "    </tr>\n",
       "    <tr>\n",
       "      <th>Long Hill Twp NJ</th>\n",
       "      <td>1335000.0</td>\n",
       "      <td>100001.0</td>\n",
       "    </tr>\n",
       "    <tr>\n",
       "      <th>Mountainside Boro NJ</th>\n",
       "      <td>1350000.0</td>\n",
       "      <td>251000.0</td>\n",
       "    </tr>\n",
       "    <tr>\n",
       "      <th>New Providence Boro NJ</th>\n",
       "      <td>1295000.0</td>\n",
       "      <td>200000.0</td>\n",
       "    </tr>\n",
       "    <tr>\n",
       "      <th>Warren Twp NJ</th>\n",
       "      <td>1676406.0</td>\n",
       "      <td>248611.0</td>\n",
       "    </tr>\n",
       "    <tr>\n",
       "      <th>Watchung Boro NJ</th>\n",
       "      <td>1100000.0</td>\n",
       "      <td>-5000.0</td>\n",
       "    </tr>\n",
       "  </tbody>\n",
       "</table>\n",
       "</div>"
      ],
      "text/plain": [
       "                         sold_price   bidding\n",
       "town                                         \n",
       "Berkeley Heights Twp NJ   1350000.0   91000.0\n",
       "Bernards Twp NJ           1321000.0  275000.0\n",
       "Green Brook Twp NJ         765000.0   90000.0\n",
       "Long Hill Twp NJ          1335000.0  100001.0\n",
       "Mountainside Boro NJ      1350000.0  251000.0\n",
       "New Providence Boro NJ    1295000.0  200000.0\n",
       "Warren Twp NJ             1676406.0  248611.0\n",
       "Watchung Boro NJ          1100000.0   -5000.0"
      ]
     },
     "execution_count": 20,
     "metadata": {},
     "output_type": "execute_result"
    }
   ],
   "source": [
    "df_3_4[['sold_price', 'bidding', 'town']].groupby('town').max()"
   ]
  },
  {
   "cell_type": "markdown",
   "id": "a7c39afb-13a4-403b-a52f-36023fa8b5ec",
   "metadata": {},
   "source": [
    "OMG!!! AT LEAST $100,000 over asking price to win the house!"
   ]
  },
  {
   "cell_type": "markdown",
   "id": "93876bcd-4f97-47fe-b314-cd367e9e1f96",
   "metadata": {},
   "source": [
    "BTW I checked houses price growhth since 2010, probably they will go even higher this year, they are just following inflation."
   ]
  },
  {
   "cell_type": "markdown",
   "id": "3691f5eb-e675-488b-b34e-9a4f801e0b6e",
   "metadata": {},
   "source": [
    "### Scatter Plot for all houses"
   ]
  },
  {
   "cell_type": "code",
   "execution_count": 21,
   "id": "0838c19f-2dc1-4096-b894-a8e400988447",
   "metadata": {},
   "outputs": [],
   "source": [
    "import seaborn as sns\n",
    "import numpy "
   ]
  },
  {
   "cell_type": "code",
   "execution_count": 22,
   "id": "6c2c99fb-752d-46fb-a0ce-760b65ee466d",
   "metadata": {},
   "outputs": [
    {
     "data": {
      "text/plain": [
       "<Axes: xlabel='list_price', ylabel='bidding'>"
      ]
     },
     "execution_count": 22,
     "metadata": {},
     "output_type": "execute_result"
    },
    {
     "data": {
      "image/png": "[encoded data removed]",
      "text/plain": [
       "<Figure size 640x480 with 1 Axes>"
      ]
     },
     "metadata": {},
     "output_type": "display_data"
    }
   ],
   "source": [
    "sns.scatterplot( x=df['list_price']/1000, y=df['bidding']/1000, hue = df['bdr'])"
   ]
  },
  {
   "cell_type": "code",
   "execution_count": 23,
   "id": "f4c6f029-73b0-496e-85ea-8ef88c068d59",
   "metadata": {},
   "outputs": [],
   "source": [
    "from sklearn.linear_model import LinearRegression\n",
    "import matplotlib.pyplot as plt  # To visualize\n",
    "\n",
    "model = LinearRegression()"
   ]
  },
  {
   "cell_type": "code",
   "execution_count": 24,
   "id": "1d81b9fa-5234-48d2-8f7a-872136491963",
   "metadata": {},
   "outputs": [],
   "source": [
    "md = model.fit(df_cleaned[['list_price']], df_cleaned['bidding'])"
   ]
  },
  {
   "cell_type": "code",
   "execution_count": 25,
   "id": "e40f6012-9452-4d1e-b888-933eab6b6740",
   "metadata": {},
   "outputs": [],
   "source": [
    "r2_score = model.score(df_cleaned[['list_price']], df_cleaned['bidding'])"
   ]
  },
  {
   "cell_type": "code",
   "execution_count": 26,
   "id": "ab24406a-8809-4476-8e4f-b0f644b08661",
   "metadata": {},
   "outputs": [
    {
     "data": {
      "text/plain": [
       "0.07549425863089121"
      ]
     },
     "execution_count": 26,
     "metadata": {},
     "output_type": "execute_result"
    }
   ],
   "source": [
    "r2_score"
   ]
  },
  {
   "cell_type": "code",
   "execution_count": 27,
   "id": "2450f4db-f484-4a71-b65d-39dd070f0fe0",
   "metadata": {},
   "outputs": [],
   "source": [
    "Y_pred = model.predict(df_cleaned[['list_price']])"
   ]
  },
  {
   "cell_type": "code",
   "execution_count": 28,
   "id": "925f5eec-35a8-483c-9f16-7268af2567dd",
   "metadata": {},
   "outputs": [
    {
     "data": {
      "image/png": "[encoded data removed]",
      "text/plain": [
       "<Figure size 640x480 with 1 Axes>"
      ]
     },
     "metadata": {},
     "output_type": "display_data"
    }
   ],
   "source": [
    "plt.scatter(df_cleaned[['list_price']], df_cleaned['bidding'])\n",
    "plt.plot(df_cleaned[['list_price']], Y_pred, color='red')\n",
    "plt.axhline(y=0, color='green', linestyle='-')\n",
    "plt.show()"
   ]
  },
  {
   "cell_type": "markdown",
   "id": "995ca36e-c59b-40fe-bacc-a44c5304c57e",
   "metadata": {},
   "source": [
    "So offering much over asking price is reasonable as soon as you're buying the house in price range below \\$1,000,000-\\$1,500,000. More over, it's "
   ]
  },
  {
   "cell_type": "code",
   "execution_count": 29,
   "id": "5f0008bf-5c93-4cf4-bf1d-4cad94466924",
   "metadata": {},
   "outputs": [],
   "source": [
    "X = df_cleaned[['list_price']]\n",
    "Y_pred = model.predict(X)"
   ]
  },
  {
   "cell_type": "code",
   "execution_count": 30,
   "id": "7ce97765-7d55-4b1a-9058-158b9a136ab7",
   "metadata": {},
   "outputs": [],
   "source": [
    "df_cleaned['pred'] = Y_pred"
   ]
  },
  {
   "cell_type": "code",
   "execution_count": 31,
   "id": "254b18fd-e30b-4938-8be9-d831280057f8",
   "metadata": {},
   "outputs": [],
   "source": [
    "df_cleaned['pred_perc'] = df_cleaned['pred']/df_cleaned['list_price']"
   ]
  },
  {
   "cell_type": "code",
   "execution_count": 32,
   "id": "75b4b228-0ab9-49b3-9228-e2d1d2b28fa5",
   "metadata": {},
   "outputs": [
    {
     "data": {
      "image/png": "[encoded data removed]",
      "text/plain": [
       "<Figure size 640x480 with 1 Axes>"
      ]
     },
     "metadata": {},
     "output_type": "display_data"
    }
   ],
   "source": [
    "plt.scatter(df_cleaned[['list_price']], df_cleaned['bidding']/df_cleaned['list_price']*100)\n",
    "plt.scatter(df_cleaned[['list_price']], df_cleaned['pred_perc'] *100, color='red')\n",
    "plt.axhline(y=0, color='green', linestyle='-')\n",
    "plt.show()"
   ]
  },
  {
   "cell_type": "markdown",
   "id": "fa4b58ac-e8a5-4901-b61f-2be9f7a740c2",
   "metadata": {},
   "source": [
    "Wonderful observation! As soon as the listing price is much lower than 1000k, the sold price is up to 20% higher, than listing price. At the same time there's no need to give an offer much over asking price for the houses listed over 1000k. And you could ask a discount for the houses over 1500k. So the bidding wars are intensive on the lower end of houses in a good area. "
   ]
  },
  {
   "cell_type": "code",
   "execution_count": null,
   "id": "de4c1fe1-b829-4757-8e26-d35b98a2e607",
   "metadata": {},
   "outputs": [],
   "source": []
  }
 ],
 "metadata": {
  "kernelspec": {
   "display_name": "Python 3 (ipykernel)",
   "language": "python",
   "name": "python3"
  },
  "language_info": {
   "codemirror_mode": {
    "name": "ipython",
    "version": 3
   },
   "file_extension": ".py",
   "mimetype": "text/x-python",
   "name": "python",
   "nbconvert_exporter": "python",
   "pygments_lexer": "ipython3",
   "version": "3.11.7"
  }
 },
 "nbformat": 4,
 "nbformat_minor": 5
}
